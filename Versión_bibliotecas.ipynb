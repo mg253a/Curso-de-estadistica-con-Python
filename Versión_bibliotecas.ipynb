{
  "nbformat": 4,
  "nbformat_minor": 0,
  "metadata": {
    "colab": {
      "provenance": [],
      "include_colab_link": true
    },
    "kernelspec": {
      "name": "python3",
      "display_name": "Python 3"
    }
  },
  "cells": [
    {
      "cell_type": "markdown",
      "metadata": {
        "id": "view-in-github",
        "colab_type": "text"
      },
      "source": [
        "<a href=\"https://colab.research.google.com/github/mg253a/Curso-de-estadistica-con-Python/blob/main/Versi%C3%B3n_bibliotecas.ipynb\" target=\"_parent\"><img src=\"https://colab.research.google.com/assets/colab-badge.svg\" alt=\"Open In Colab\"/></a>"
      ]
    },
    {
      "cell_type": "code",
      "metadata": {
        "id": "kffSOYcgir5Q",
        "colab": {
          "base_uri": "https://localhost:8080/"
        },
        "outputId": "e815a9e3-73ee-455a-e6df-a4b712fe7df9"
      },
      "source": [
        "import pandas, numpy, scipy, matplotlib\n",
        "\n",
        "print('Versión de pandas -> %s' % pandas.__version__)\n",
        "print('Versión de numpy -> %s' % numpy.__version__)\n",
        "print('Versión de scipy -> %s' % scipy.__version__)\n",
        "print('Versión de matplotlib -> %s' % matplotlib.__version__)"
      ],
      "execution_count": null,
      "outputs": [
        {
          "output_type": "stream",
          "text": [
            "Versión de pandas -> 1.1.5\n",
            "Versión de numpy -> 1.19.5\n",
            "Versión de scipy -> 1.4.1\n",
            "Versión de matplotlib -> 3.2.2\n"
          ],
          "name": "stdout"
        }
      ]
    },
    {
      "cell_type": "code",
      "metadata": {
        "id": "bcAPEvyqjJCx"
      },
      "source": [],
      "execution_count": null,
      "outputs": []
    }
  ]
}